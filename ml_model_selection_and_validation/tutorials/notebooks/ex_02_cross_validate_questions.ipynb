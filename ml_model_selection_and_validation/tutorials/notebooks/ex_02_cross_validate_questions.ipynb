{
 "cells": [
  {
   "cell_type": "code",
   "execution_count": null,
   "id": "chronic-telescope",
   "metadata": {},
   "outputs": [],
   "source": [
    "from sklearn.datasets import make_regression\n",
    "from sklearn import model_selection\n",
    "from sklearn.linear_model import Ridge\n",
    "# import pickle"
   ]
  },
  {
   "cell_type": "code",
   "execution_count": null,
   "id": "motivated-isaac",
   "metadata": {},
   "outputs": [],
   "source": [
    "X, y = make_regression(noise=10)\n",
    "model = Ridge()"
   ]
  },
  {
   "cell_type": "code",
   "execution_count": null,
   "id": "compressed-basement",
   "metadata": {},
   "outputs": [],
   "source": [
    "# TODO: using an appropriate function from scikit-learn, compute\n",
    "# cross-validation scores for a ridge regression on this dataset. What\n",
    "# cross-validation strategy is used? what do the scores represent -- what\n",
    "# performance metric is used?\n",
    "# What is a good choice for k?\n",
    "# Hint: https://scikit-learn.org/stable/modules/generated/sklearn.model_selection.cross_validate.html\n",
    "scores = \"???\"\n",
    "print(scores)"
   ]
  },
  {
   "cell_type": "code",
   "execution_count": null,
   "id": "distinct-bachelor",
   "metadata": {},
   "outputs": [],
   "source": [
    "# if I am satisfied with scores\n",
    "model.fit(X, y)\n",
    "# with open(\"/tmp/model_ready_for_production.pkl\", \"wb\") as f:\n",
    "#     pickle.dump(model, f)"
   ]
  }
 ],
 "metadata": {
  "jupytext": {
   "cell_metadata_filter": "-all",
   "main_language": "python",
   "notebook_metadata_filter": "-all"
  }
 },
 "nbformat": 4,
 "nbformat_minor": 5
}
