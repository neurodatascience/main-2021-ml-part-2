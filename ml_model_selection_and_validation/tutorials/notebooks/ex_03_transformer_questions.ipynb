{
 "cells": [
  {
   "cell_type": "code",
   "execution_count": null,
   "id": "helpful-episode",
   "metadata": {},
   "outputs": [],
   "source": [
    "import numpy as np\n",
    "from sklearn.preprocessing import StandardScaler"
   ]
  },
  {
   "cell_type": "code",
   "execution_count": null,
   "id": "entertaining-bahrain",
   "metadata": {},
   "outputs": [],
   "source": [
    "X = np.asarray([[0, 1, -10], [0, -1, 0], [1, 0, 10], [1, 0, 0]])\n",
    "print(f\"X:\\n{X}\\n\")"
   ]
  },
  {
   "cell_type": "code",
   "execution_count": null,
   "id": "pressing-enclosure",
   "metadata": {},
   "outputs": [],
   "source": [
    "X_scaled = \"???\""
   ]
  },
  {
   "cell_type": "code",
   "execution_count": null,
   "id": "thermal-practice",
   "metadata": {},
   "outputs": [],
   "source": [
    "print(f\"X scaled:\\n{X_scaled}\\n\")\n",
    "print(f\"mean: {X_scaled.mean(axis=0)}\\nstd: {X_scaled.std(axis=0)}\")"
   ]
  }
 ],
 "metadata": {
  "jupytext": {
   "cell_metadata_filter": "-all",
   "main_language": "python",
   "notebook_metadata_filter": "-all"
  }
 },
 "nbformat": 4,
 "nbformat_minor": 5
}
