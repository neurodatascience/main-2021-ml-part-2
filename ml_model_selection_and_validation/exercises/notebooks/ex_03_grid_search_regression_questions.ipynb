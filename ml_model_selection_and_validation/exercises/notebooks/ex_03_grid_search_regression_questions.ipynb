{
 "cells": [
  {
   "cell_type": "code",
   "execution_count": null,
   "id": "259202d0",
   "metadata": {},
   "outputs": [],
   "source": [
    "from sklearn.datasets import make_regression\n",
    "from sklearn.linear_model import Ridge, RidgeCV\n",
    "from sklearn.model_selection import cross_validate, GridSearchCV"
   ]
  },
  {
   "cell_type": "code",
   "execution_count": null,
   "id": "b1c454b6",
   "metadata": {},
   "outputs": [],
   "source": [
    "X, y = make_regression(noise=2.5, n_samples=500, n_features=600, random_state=0)"
   ]
  },
  {
   "cell_type": "code",
   "execution_count": null,
   "id": "a0aad45f",
   "metadata": {},
   "outputs": [],
   "source": [
    "# TODO: try a few different values of alpha\n",
    "model = Ridge(alpha=1e4)"
   ]
  },
  {
   "cell_type": "code",
   "execution_count": null,
   "id": "2cd62252",
   "metadata": {},
   "outputs": [],
   "source": [
    "# TODO: instead of using a model with only one parameter, use `GridSearchCV` to\n",
    "# create a meta-model that will select the best hyperparameter using a nested\n",
    "# cross-validation loop.\n",
    "scores = cross_validate(model, X, y)\n",
    "print(f\"\\nscores using GridSearchCV:\\n{scores}\")"
   ]
  },
  {
   "cell_type": "markdown",
   "id": "e4218a3e",
   "metadata": {},
   "source": [
    "scikit-learn also has a `RidgeCV` model that does this gridsearch much more\n",
    "efficiently."
   ]
  },
  {
   "cell_type": "code",
   "execution_count": null,
   "id": "fe74ac2d",
   "metadata": {},
   "outputs": [],
   "source": [
    "ridgecv_model = RidgeCV(alphas=[.001, .01, .1, 1., 10., 100., 1000.])\n",
    "ridgecv_scores = cross_validate(ridgecv_model, X, y)\n",
    "print(f\"\\n\\nscores using RidgeCV:\\n{ridgecv_scores}\")"
   ]
  }
 ],
 "metadata": {
  "jupytext": {
   "cell_metadata_filter": "-all",
   "main_language": "python",
   "notebook_metadata_filter": "-all"
  }
 },
 "nbformat": 4,
 "nbformat_minor": 5
}
