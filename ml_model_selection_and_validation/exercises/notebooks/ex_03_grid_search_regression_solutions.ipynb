{
 "cells": [
  {
   "cell_type": "code",
   "execution_count": null,
   "id": "ea961a82",
   "metadata": {},
   "outputs": [],
   "source": [
    "from sklearn.datasets import make_regression\n",
    "from sklearn.linear_model import Ridge, RidgeCV\n",
    "from sklearn.model_selection import cross_validate, GridSearchCV"
   ]
  },
  {
   "cell_type": "code",
   "execution_count": null,
   "id": "f87492ee",
   "metadata": {},
   "outputs": [],
   "source": [
    "X, y = make_regression(noise=2.5, n_samples=500, n_features=600, random_state=0)"
   ]
  },
  {
   "cell_type": "code",
   "execution_count": null,
   "id": "39e5e63d",
   "metadata": {},
   "outputs": [],
   "source": [
    "# TODO: try a few different values of alpha\n",
    "model = Ridge(alpha=1e4)"
   ]
  },
  {
   "cell_type": "code",
   "execution_count": null,
   "id": "4c141ca8",
   "metadata": {},
   "outputs": [],
   "source": [
    "# TODO: instead of using a model with only one parameter, use `GridSearchCV` to\n",
    "# create a meta-model that will select the best hyperparameter using a nested\n",
    "# cross-validation loop.\n",
    "# TODO_BEGIN\n",
    "model = GridSearchCV(Ridge(), {\"alpha\": [.1, 1., 10.]}, verbose=1)\n",
    "# TODO_END\n",
    "scores = cross_validate(model, X, y)\n",
    "print(\"\\nscores using GridSearchCV:\", scores)"
   ]
  },
  {
   "cell_type": "markdown",
   "id": "d4ebdc93",
   "metadata": {},
   "source": [
    "scikit-learn also has a `RidgeCV` model that does this gridsearch much more\n",
    "efficiently."
   ]
  },
  {
   "cell_type": "code",
   "execution_count": null,
   "id": "d32ccc74",
   "metadata": {},
   "outputs": [],
   "source": [
    "ridgecv_model = RidgeCV(alphas=[.001, .01, .1, 1., 10., 100., 1000.])\n",
    "ridgecv_scores = cross_validate(ridgecv_model, X, y)\n",
    "print(\"\\n\\nscores using RidgeCV:\", ridgecv_scores)"
   ]
  }
 ],
 "metadata": {
  "jupytext": {
   "cell_metadata_filter": "-all",
   "main_language": "python",
   "notebook_metadata_filter": "-all"
  }
 },
 "nbformat": 4,
 "nbformat_minor": 5
}
