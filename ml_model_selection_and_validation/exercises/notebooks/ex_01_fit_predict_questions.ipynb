{
 "cells": [
  {
   "cell_type": "code",
   "execution_count": null,
   "id": "aa87149d",
   "metadata": {},
   "outputs": [],
   "source": [
    "import numpy as np\n",
    "from sklearn.datasets import make_regression\n",
    "from sklearn.linear_model import Ridge\n",
    "from sklearn.metrics import mean_squared_error"
   ]
  },
  {
   "cell_type": "markdown",
   "id": "19d07dc0",
   "metadata": {},
   "source": [
    "Question: what is the issue in the code below?"
   ]
  },
  {
   "cell_type": "code",
   "execution_count": null,
   "id": "be5981ee",
   "metadata": {},
   "outputs": [],
   "source": [
    "X, y = make_regression(n_samples=80, n_features=600, noise=10, random_state=0)\n",
    "\n",
    "model = Ridge(alpha=1e-8)\n",
    "model.fit(X, y)\n",
    "predictions = model.predict(X)\n",
    "mse = mean_squared_error(y, predictions)\n",
    "\n",
    "print(f\"\\nMean Squared Error: {mse}\")\n",
    "print(\"MSE is 0 up to machine precision:\", np.allclose(mse, 0))"
   ]
  },
  {
   "cell_type": "markdown",
   "id": "99c47fe8",
   "metadata": {},
   "source": [
    "Let's compare training and testing performance"
   ]
  },
  {
   "cell_type": "code",
   "execution_count": null,
   "id": "85a24f03",
   "metadata": {},
   "outputs": [],
   "source": [
    "X, y = make_regression(n_samples=160, n_features=600, noise=10, random_state=0)\n",
    "X_train, X_test = X[:80], X[80:]\n",
    "y_train, y_test = y[:80], y[80:]\n",
    "\n",
    "model = Ridge(alpha=1e-8)\n",
    "# TODO: fit the model on training data only, get predictions for test data, and\n",
    "# compute prediction error. Is it much larger than error on the training data?\n",
    "mse = \"???\"\n",
    "\n",
    "print(f\"\\nOn a separate test set:\\nOut-of-sample Mean Squared Error: {mse}\")"
   ]
  }
 ],
 "metadata": {
  "jupytext": {
   "cell_metadata_filter": "-all",
   "main_language": "python",
   "notebook_metadata_filter": "-all"
  }
 },
 "nbformat": 4,
 "nbformat_minor": 5
}
